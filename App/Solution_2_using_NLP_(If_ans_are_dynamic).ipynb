{
  "nbformat": 4,
  "nbformat_minor": 0,
  "metadata": {
    "colab": {
      "name": "Cosine.ipynb",
      "provenance": [],
      "collapsed_sections": [],
      "authorship_tag": "ABX9TyOGUFu8qmAuUVdObkkE2F/5"
    },
    "kernelspec": {
      "name": "python3",
      "display_name": "Python 3"
    }
  },
  "cells": [
    {
      "cell_type": "code",
      "metadata": {
        "colab": {
          "base_uri": "https://localhost:8080/"
        },
        "id": "H-NTwZTiJ0b1",
        "outputId": "23f57852-5cea-43e2-ec8e-b41718709cc5"
      },
      "source": [
        "import tensorflow as tf\r\n",
        "from tensorflow import keras\r\n",
        "import numpy as np\r\n",
        "from tensorflow.keras.preprocessing.text import Tokenizer\r\n",
        "from tensorflow.keras.preprocessing.sequence import pad_sequences\r\n",
        "\r\n",
        "answers = [['Similarities make things smoother',\r\n",
        "    'If it’s right, it’s easy',\r\n",
        "    'Communication is key',\r\n",
        "    'Yes',\r\n",
        "    'Work life balance',\r\n",
        "    'The relationship is over',\r\n",
        "    'I’m bit reserved or even shy',\r\n",
        "    'I’m a social butterfly',\r\n",
        "    'I’m opinionated and strong-willed',\r\n",
        "    'Doesn’t matter much'],\r\n",
        "    ['Opposite attracts',\r\n",
        "     'If it’s right, it’s easy',\r\n",
        "     'It’s complicated',\r\n",
        "     'No',\r\n",
        "     'Work life balance',\r\n",
        "     'There might be a chance',\r\n",
        "     'I’m a social butterfly',\r\n",
        "     'I’m an open book',\r\n",
        "     'I’m opinionated and strong-willed',\r\n",
        "     'Can make or break a relationship']]\r\n",
        "\r\n",
        "tokenizer = Tokenizer(num_words = 100, oov_token=\"<OOV>\")\r\n",
        "for ans in answers:\r\n",
        "  tokenizer.fit_on_texts(ans)\r\n",
        "\r\n",
        "word_index = tokenizer.word_index\r\n",
        "print(\"\\nWord Index = \" , word_index)\r\n",
        "\r\n",
        "\r\n",
        "sequence1 = tokenizer.texts_to_sequences(answers[0])\r\n",
        "padded1 = pad_sequences(sequence1, padding='post', maxlen=4)\r\n",
        "print(\"\\nSequence of boy1 answers = \" , sequence1)\r\n",
        "print(padded1)\r\n",
        "\r\n",
        "sequence2 = tokenizer.texts_to_sequences(answers[1])\r\n",
        "padded2 = pad_sequences(sequence2, padding='post', maxlen=4)\r\n",
        "print(\"\\nSequence of girl1 answers = \", sequence2)\r\n",
        "print(padded2)"
      ],
      "execution_count": 1,
      "outputs": [
        {
          "output_type": "stream",
          "text": [
            "\n",
            "Word Index =  {'<OOV>': 1, 'i’m': 2, 'it’s': 3, 'a': 4, 'make': 5, 'if': 6, 'right': 7, 'easy': 8, 'is': 9, 'work': 10, 'life': 11, 'balance': 12, 'relationship': 13, 'or': 14, 'social': 15, 'butterfly': 16, 'opinionated': 17, 'and': 18, 'strong': 19, 'willed': 20, 'similarities': 21, 'things': 22, 'smoother': 23, 'communication': 24, 'key': 25, 'yes': 26, 'the': 27, 'over': 28, 'bit': 29, 'reserved': 30, 'even': 31, 'shy': 32, 'doesn’t': 33, 'matter': 34, 'much': 35, 'opposite': 36, 'attracts': 37, 'complicated': 38, 'no': 39, 'there': 40, 'might': 41, 'be': 42, 'chance': 43, 'an': 44, 'open': 45, 'book': 46, 'can': 47, 'break': 48}\n",
            "\n",
            "Sequence of boy1 answers =  [[21, 5, 22, 23], [6, 3, 7, 3, 8], [24, 9, 25], [26], [10, 11, 12], [27, 13, 9, 28], [2, 29, 30, 14, 31, 32], [2, 4, 15, 16], [2, 17, 18, 19, 20], [33, 34, 35]]\n",
            "[[21  5 22 23]\n",
            " [ 3  7  3  8]\n",
            " [24  9 25  0]\n",
            " [26  0  0  0]\n",
            " [10 11 12  0]\n",
            " [27 13  9 28]\n",
            " [30 14 31 32]\n",
            " [ 2  4 15 16]\n",
            " [17 18 19 20]\n",
            " [33 34 35  0]]\n",
            "\n",
            "Sequence of girl1 answers =  [[36, 37], [6, 3, 7, 3, 8], [3, 38], [39], [10, 11, 12], [40, 41, 42, 4, 43], [2, 4, 15, 16], [2, 44, 45, 46], [2, 17, 18, 19, 20], [47, 5, 14, 48, 4, 13]]\n",
            "[[36 37  0  0]\n",
            " [ 3  7  3  8]\n",
            " [ 3 38  0  0]\n",
            " [39  0  0  0]\n",
            " [10 11 12  0]\n",
            " [41 42  4 43]\n",
            " [ 2  4 15 16]\n",
            " [ 2 44 45 46]\n",
            " [17 18 19 20]\n",
            " [14 48  4 13]]\n"
          ],
          "name": "stdout"
        }
      ]
    },
    {
      "cell_type": "code",
      "metadata": {
        "colab": {
          "base_uri": "https://localhost:8080/"
        },
        "id": "QgMDJfTbOtq4",
        "outputId": "f3998fa3-3fce-4b4e-c9b3-b37f85f860f1"
      },
      "source": [
        "boy1 = list()\r\n",
        "for i in range(0, 10):\r\n",
        "  col = []\r\n",
        "  for item in padded1[i]:\r\n",
        "    col.append(float(item))\r\n",
        "  boy1.append(col)\r\n",
        "\r\n",
        "girl1 = list()\r\n",
        "for i in range(0, 10):\r\n",
        "  col = []\r\n",
        "  for item in padded2[i]:\r\n",
        "    col.append(float(item))\r\n",
        "  girl1.append(col)\r\n",
        "\r\n",
        "print(boy1)\r\n",
        "print(girl1)"
      ],
      "execution_count": 3,
      "outputs": [
        {
          "output_type": "stream",
          "text": [
            "[[21.0, 5.0, 22.0, 23.0], [3.0, 7.0, 3.0, 8.0], [24.0, 9.0, 25.0, 0.0], [26.0, 0.0, 0.0, 0.0], [10.0, 11.0, 12.0, 0.0], [27.0, 13.0, 9.0, 28.0], [30.0, 14.0, 31.0, 32.0], [2.0, 4.0, 15.0, 16.0], [17.0, 18.0, 19.0, 20.0], [33.0, 34.0, 35.0, 0.0]]\n",
            "[[36.0, 37.0, 0.0, 0.0], [3.0, 7.0, 3.0, 8.0], [3.0, 38.0, 0.0, 0.0], [39.0, 0.0, 0.0, 0.0], [10.0, 11.0, 12.0, 0.0], [41.0, 42.0, 4.0, 43.0], [2.0, 4.0, 15.0, 16.0], [2.0, 44.0, 45.0, 46.0], [17.0, 18.0, 19.0, 20.0], [14.0, 48.0, 4.0, 13.0]]\n"
          ],
          "name": "stdout"
        }
      ]
    },
    {
      "cell_type": "code",
      "metadata": {
        "colab": {
          "base_uri": "https://localhost:8080/"
        },
        "id": "JpWX8OOZJwpS",
        "outputId": "ab30dfb2-8b93-4b0a-b64f-fa4a5efbcfe7"
      },
      "source": [
        "cosine_loss = tf.keras.losses.CosineSimilarity(axis=1)\r\n",
        "\r\n",
        "probability = cosine_loss(boy1, girl1).numpy()\r\n",
        "\r\n",
        "if probability < 0:\r\n",
        "  print(\"Matching probability of Boy1 & girl1 using NLP: \", -probability)\r\n",
        "else:\r\n",
        "  print(\"They are no match between boy2 and girl2\")"
      ],
      "execution_count": 8,
      "outputs": [
        {
          "output_type": "stream",
          "text": [
            "Matching probability of Boy1 & girl1 using NLP:  0.8245989\n"
          ],
          "name": "stdout"
        }
      ]
    }
  ]
}
