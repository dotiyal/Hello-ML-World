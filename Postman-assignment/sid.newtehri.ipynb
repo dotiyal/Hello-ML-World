{
 "cells": [
  {
   "cell_type": "code",
   "execution_count": 1,
   "metadata": {},
   "outputs": [
    {
     "name": "stdout",
     "output_type": "stream",
     "text": [
      "1.1.3\n"
     ]
    }
   ],
   "source": [
    "import pandas as pd\n",
    "print(pd.__version__)"
   ]
  },
  {
   "cell_type": "code",
   "execution_count": 2,
   "metadata": {},
   "outputs": [],
   "source": [
    "mylist = []\n",
    "chunksize = 10000\n",
    "for chunk in pd.read_csv(\"products.csv\", chunksize=chunksize):\n",
    "    mylist.append(chunk)"
   ]
  },
  {
   "cell_type": "code",
   "execution_count": 3,
   "metadata": {},
   "outputs": [
    {
     "data": {
      "text/plain": [
       "50"
      ]
     },
     "execution_count": 3,
     "metadata": {},
     "output_type": "execute_result"
    }
   ],
   "source": [
    "len(mylist)"
   ]
  },
  {
   "cell_type": "code",
   "execution_count": 4,
   "metadata": {},
   "outputs": [
    {
     "data": {
      "text/html": [
       "<div>\n",
       "<style scoped>\n",
       "    .dataframe tbody tr th:only-of-type {\n",
       "        vertical-align: middle;\n",
       "    }\n",
       "\n",
       "    .dataframe tbody tr th {\n",
       "        vertical-align: top;\n",
       "    }\n",
       "\n",
       "    .dataframe thead th {\n",
       "        text-align: right;\n",
       "    }\n",
       "</style>\n",
       "<table border=\"1\" class=\"dataframe\">\n",
       "  <thead>\n",
       "    <tr style=\"text-align: right;\">\n",
       "      <th></th>\n",
       "      <th>name</th>\n",
       "      <th>sku</th>\n",
       "      <th>description</th>\n",
       "    </tr>\n",
       "  </thead>\n",
       "  <tbody>\n",
       "    <tr>\n",
       "      <th>0</th>\n",
       "      <td>Bryce Jones</td>\n",
       "      <td>lay-raise-best-end</td>\n",
       "      <td>Art community floor adult your single type. Pe...</td>\n",
       "    </tr>\n",
       "    <tr>\n",
       "      <th>1</th>\n",
       "      <td>John Robinson</td>\n",
       "      <td>cup-return-guess</td>\n",
       "      <td>Produce successful hot tree past action young ...</td>\n",
       "    </tr>\n",
       "    <tr>\n",
       "      <th>2</th>\n",
       "      <td>Theresa Taylor</td>\n",
       "      <td>step-onto</td>\n",
       "      <td>Choice should lead budget task. Author best me...</td>\n",
       "    </tr>\n",
       "    <tr>\n",
       "      <th>3</th>\n",
       "      <td>Roger Huerta</td>\n",
       "      <td>citizen-some-middle</td>\n",
       "      <td>Important fight wrong position fine. Friend so...</td>\n",
       "    </tr>\n",
       "    <tr>\n",
       "      <th>4</th>\n",
       "      <td>John Buckley</td>\n",
       "      <td>term-important</td>\n",
       "      <td>Alone maybe education risk despite way.\\nWant ...</td>\n",
       "    </tr>\n",
       "    <tr>\n",
       "      <th>...</th>\n",
       "      <td>...</td>\n",
       "      <td>...</td>\n",
       "      <td>...</td>\n",
       "    </tr>\n",
       "    <tr>\n",
       "      <th>9995</th>\n",
       "      <td>William Hernandez</td>\n",
       "      <td>president-face-it</td>\n",
       "      <td>Mind court late worry surface. Over long bill ...</td>\n",
       "    </tr>\n",
       "    <tr>\n",
       "      <th>9996</th>\n",
       "      <td>Steven Small</td>\n",
       "      <td>while-arrive</td>\n",
       "      <td>Thing cell wonder until organization cup. Team...</td>\n",
       "    </tr>\n",
       "    <tr>\n",
       "      <th>9997</th>\n",
       "      <td>Sue Lee</td>\n",
       "      <td>few-probably-adult</td>\n",
       "      <td>Point usually you lose price down simply custo...</td>\n",
       "    </tr>\n",
       "    <tr>\n",
       "      <th>9998</th>\n",
       "      <td>Timothy Ruiz</td>\n",
       "      <td>could-nothing-tell</td>\n",
       "      <td>Community environmental technology all actuall...</td>\n",
       "    </tr>\n",
       "    <tr>\n",
       "      <th>9999</th>\n",
       "      <td>Teresa Pace</td>\n",
       "      <td>fall-because-rich</td>\n",
       "      <td>Benefit process west put. Foreign process eith...</td>\n",
       "    </tr>\n",
       "  </tbody>\n",
       "</table>\n",
       "<p>10000 rows × 3 columns</p>\n",
       "</div>"
      ],
      "text/plain": [
       "                   name                  sku  \\\n",
       "0           Bryce Jones   lay-raise-best-end   \n",
       "1         John Robinson     cup-return-guess   \n",
       "2        Theresa Taylor            step-onto   \n",
       "3          Roger Huerta  citizen-some-middle   \n",
       "4          John Buckley       term-important   \n",
       "...                 ...                  ...   \n",
       "9995  William Hernandez    president-face-it   \n",
       "9996       Steven Small         while-arrive   \n",
       "9997            Sue Lee   few-probably-adult   \n",
       "9998       Timothy Ruiz   could-nothing-tell   \n",
       "9999        Teresa Pace    fall-because-rich   \n",
       "\n",
       "                                            description  \n",
       "0     Art community floor adult your single type. Pe...  \n",
       "1     Produce successful hot tree past action young ...  \n",
       "2     Choice should lead budget task. Author best me...  \n",
       "3     Important fight wrong position fine. Friend so...  \n",
       "4     Alone maybe education risk despite way.\\nWant ...  \n",
       "...                                                 ...  \n",
       "9995  Mind court late worry surface. Over long bill ...  \n",
       "9996  Thing cell wonder until organization cup. Team...  \n",
       "9997  Point usually you lose price down simply custo...  \n",
       "9998  Community environmental technology all actuall...  \n",
       "9999  Benefit process west put. Foreign process eith...  \n",
       "\n",
       "[10000 rows x 3 columns]"
      ]
     },
     "execution_count": 4,
     "metadata": {},
     "output_type": "execute_result"
    }
   ],
   "source": [
    "mylist[0]"
   ]
  },
  {
   "cell_type": "code",
   "execution_count": 5,
   "metadata": {},
   "outputs": [
    {
     "data": {
      "text/html": [
       "<div>\n",
       "<style scoped>\n",
       "    .dataframe tbody tr th:only-of-type {\n",
       "        vertical-align: middle;\n",
       "    }\n",
       "\n",
       "    .dataframe tbody tr th {\n",
       "        vertical-align: top;\n",
       "    }\n",
       "\n",
       "    .dataframe thead th {\n",
       "        text-align: right;\n",
       "    }\n",
       "</style>\n",
       "<table border=\"1\" class=\"dataframe\">\n",
       "  <thead>\n",
       "    <tr style=\"text-align: right;\">\n",
       "      <th></th>\n",
       "      <th>name</th>\n",
       "      <th>sku</th>\n",
       "      <th>description</th>\n",
       "    </tr>\n",
       "  </thead>\n",
       "  <tbody>\n",
       "    <tr>\n",
       "      <th>490000</th>\n",
       "      <td>Brandon Garcia</td>\n",
       "      <td>foreign-price-dream</td>\n",
       "      <td>Floor some what analysis them explain. Enough ...</td>\n",
       "    </tr>\n",
       "    <tr>\n",
       "      <th>490001</th>\n",
       "      <td>Kristen Garner</td>\n",
       "      <td>law-past-our-meet</td>\n",
       "      <td>Concern history century purpose. Have then hol...</td>\n",
       "    </tr>\n",
       "    <tr>\n",
       "      <th>490002</th>\n",
       "      <td>Thomas Adkins</td>\n",
       "      <td>bad-home-war-team</td>\n",
       "      <td>Foot official while sister material best. Tv c...</td>\n",
       "    </tr>\n",
       "    <tr>\n",
       "      <th>490003</th>\n",
       "      <td>Kyle Bowman</td>\n",
       "      <td>describe-case-unit</td>\n",
       "      <td>Follow next but question skill exist. Spend wh...</td>\n",
       "    </tr>\n",
       "    <tr>\n",
       "      <th>490004</th>\n",
       "      <td>Shelly Taylor</td>\n",
       "      <td>walk-bill</td>\n",
       "      <td>Specific letter imagine me indicate system. La...</td>\n",
       "    </tr>\n",
       "    <tr>\n",
       "      <th>...</th>\n",
       "      <td>...</td>\n",
       "      <td>...</td>\n",
       "      <td>...</td>\n",
       "    </tr>\n",
       "    <tr>\n",
       "      <th>499995</th>\n",
       "      <td>Amy Williams</td>\n",
       "      <td>clear-understand</td>\n",
       "      <td>Generation piece summer church. Maintain model...</td>\n",
       "    </tr>\n",
       "    <tr>\n",
       "      <th>499996</th>\n",
       "      <td>Mandy Vang</td>\n",
       "      <td>decide-half-see</td>\n",
       "      <td>Chance rather together lot southern stay read....</td>\n",
       "    </tr>\n",
       "    <tr>\n",
       "      <th>499997</th>\n",
       "      <td>David Norman</td>\n",
       "      <td>light-us-citizen</td>\n",
       "      <td>Oil successful seem enter financial. Book site...</td>\n",
       "    </tr>\n",
       "    <tr>\n",
       "      <th>499998</th>\n",
       "      <td>Zachary Simmons</td>\n",
       "      <td>above-staff-work-be</td>\n",
       "      <td>He adult common available view minute. Lot qui...</td>\n",
       "    </tr>\n",
       "    <tr>\n",
       "      <th>499999</th>\n",
       "      <td>Tracey Hoffman</td>\n",
       "      <td>consider-top-head</td>\n",
       "      <td>Interesting prove my left. Home wish must mone...</td>\n",
       "    </tr>\n",
       "  </tbody>\n",
       "</table>\n",
       "<p>10000 rows × 3 columns</p>\n",
       "</div>"
      ],
      "text/plain": [
       "                   name                  sku  \\\n",
       "490000   Brandon Garcia  foreign-price-dream   \n",
       "490001   Kristen Garner    law-past-our-meet   \n",
       "490002    Thomas Adkins    bad-home-war-team   \n",
       "490003      Kyle Bowman   describe-case-unit   \n",
       "490004    Shelly Taylor            walk-bill   \n",
       "...                 ...                  ...   \n",
       "499995     Amy Williams     clear-understand   \n",
       "499996       Mandy Vang      decide-half-see   \n",
       "499997     David Norman     light-us-citizen   \n",
       "499998  Zachary Simmons  above-staff-work-be   \n",
       "499999   Tracey Hoffman    consider-top-head   \n",
       "\n",
       "                                              description  \n",
       "490000  Floor some what analysis them explain. Enough ...  \n",
       "490001  Concern history century purpose. Have then hol...  \n",
       "490002  Foot official while sister material best. Tv c...  \n",
       "490003  Follow next but question skill exist. Spend wh...  \n",
       "490004  Specific letter imagine me indicate system. La...  \n",
       "...                                                   ...  \n",
       "499995  Generation piece summer church. Maintain model...  \n",
       "499996  Chance rather together lot southern stay read....  \n",
       "499997  Oil successful seem enter financial. Book site...  \n",
       "499998  He adult common available view minute. Lot qui...  \n",
       "499999  Interesting prove my left. Home wish must mone...  \n",
       "\n",
       "[10000 rows x 3 columns]"
      ]
     },
     "execution_count": 5,
     "metadata": {},
     "output_type": "execute_result"
    }
   ],
   "source": [
    "mylist[49]"
   ]
  },
  {
   "cell_type": "code",
   "execution_count": 6,
   "metadata": {},
   "outputs": [],
   "source": [
    "df = pd.concat(mylist, axis=0)"
   ]
  },
  {
   "cell_type": "code",
   "execution_count": 7,
   "metadata": {},
   "outputs": [
    {
     "data": {
      "text/plain": [
       "(500000, 3)"
      ]
     },
     "execution_count": 7,
     "metadata": {},
     "output_type": "execute_result"
    }
   ],
   "source": [
    "df.shape"
   ]
  },
  {
   "cell_type": "code",
   "execution_count": 8,
   "metadata": {},
   "outputs": [
    {
     "data": {
      "text/html": [
       "<div>\n",
       "<style scoped>\n",
       "    .dataframe tbody tr th:only-of-type {\n",
       "        vertical-align: middle;\n",
       "    }\n",
       "\n",
       "    .dataframe tbody tr th {\n",
       "        vertical-align: top;\n",
       "    }\n",
       "\n",
       "    .dataframe thead th {\n",
       "        text-align: right;\n",
       "    }\n",
       "</style>\n",
       "<table border=\"1\" class=\"dataframe\">\n",
       "  <thead>\n",
       "    <tr style=\"text-align: right;\">\n",
       "      <th></th>\n",
       "      <th>name</th>\n",
       "      <th>sku</th>\n",
       "      <th>description</th>\n",
       "    </tr>\n",
       "  </thead>\n",
       "  <tbody>\n",
       "    <tr>\n",
       "      <th>0</th>\n",
       "      <td>Bryce Jones</td>\n",
       "      <td>lay-raise-best-end</td>\n",
       "      <td>Art community floor adult your single type. Pe...</td>\n",
       "    </tr>\n",
       "    <tr>\n",
       "      <th>1</th>\n",
       "      <td>John Robinson</td>\n",
       "      <td>cup-return-guess</td>\n",
       "      <td>Produce successful hot tree past action young ...</td>\n",
       "    </tr>\n",
       "    <tr>\n",
       "      <th>2</th>\n",
       "      <td>Theresa Taylor</td>\n",
       "      <td>step-onto</td>\n",
       "      <td>Choice should lead budget task. Author best me...</td>\n",
       "    </tr>\n",
       "    <tr>\n",
       "      <th>3</th>\n",
       "      <td>Roger Huerta</td>\n",
       "      <td>citizen-some-middle</td>\n",
       "      <td>Important fight wrong position fine. Friend so...</td>\n",
       "    </tr>\n",
       "    <tr>\n",
       "      <th>4</th>\n",
       "      <td>John Buckley</td>\n",
       "      <td>term-important</td>\n",
       "      <td>Alone maybe education risk despite way.\\nWant ...</td>\n",
       "    </tr>\n",
       "  </tbody>\n",
       "</table>\n",
       "</div>"
      ],
      "text/plain": [
       "             name                  sku  \\\n",
       "0     Bryce Jones   lay-raise-best-end   \n",
       "1   John Robinson     cup-return-guess   \n",
       "2  Theresa Taylor            step-onto   \n",
       "3    Roger Huerta  citizen-some-middle   \n",
       "4    John Buckley       term-important   \n",
       "\n",
       "                                         description  \n",
       "0  Art community floor adult your single type. Pe...  \n",
       "1  Produce successful hot tree past action young ...  \n",
       "2  Choice should lead budget task. Author best me...  \n",
       "3  Important fight wrong position fine. Friend so...  \n",
       "4  Alone maybe education risk despite way.\\nWant ...  "
      ]
     },
     "execution_count": 8,
     "metadata": {},
     "output_type": "execute_result"
    }
   ],
   "source": [
    "df.head()"
   ]
  },
  {
   "cell_type": "code",
   "execution_count": 9,
   "metadata": {},
   "outputs": [
    {
     "data": {
      "text/plain": [
       "name           0\n",
       "sku            0\n",
       "description    0\n",
       "dtype: int64"
      ]
     },
     "execution_count": 9,
     "metadata": {},
     "output_type": "execute_result"
    }
   ],
   "source": [
    "df.isnull().sum()"
   ]
  },
  {
   "cell_type": "code",
   "execution_count": 11,
   "metadata": {},
   "outputs": [],
   "source": [
    "#importing sql library\n",
    "from sqlalchemy import create_engine\n",
    "\n",
    "# create a referrence\n",
    "# for sql library\n",
    "engine = create_engine('sqlite://', echo = False)\n",
    "df.to_sql('Products', con = engine, if_exists='append', index = False)"
   ]
  },
  {
   "cell_type": "code",
   "execution_count": null,
   "metadata": {},
   "outputs": [],
   "source": []
  }
 ],
 "metadata": {
  "kernelspec": {
   "display_name": "Python 3",
   "language": "python",
   "name": "python3"
  },
  "language_info": {
   "codemirror_mode": {
    "name": "ipython",
    "version": 3
   },
   "file_extension": ".py",
   "mimetype": "text/x-python",
   "name": "python",
   "nbconvert_exporter": "python",
   "pygments_lexer": "ipython3",
   "version": "3.8.5"
  }
 },
 "nbformat": 4,
 "nbformat_minor": 4
}
