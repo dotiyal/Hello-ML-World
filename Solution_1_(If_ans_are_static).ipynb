{
  "nbformat": 4,
  "nbformat_minor": 0,
  "metadata": {
    "colab": {
      "name": "App.ipynb",
      "provenance": [],
      "collapsed_sections": [],
      "authorship_tag": "ABX9TyN8i2OpeuBEd2efPAvEh37g"
    },
    "kernelspec": {
      "display_name": "Python 3",
      "name": "python3"
    }
  },
  "cells": [
    {
      "cell_type": "code",
      "metadata": {
        "id": "tQTBCLbgkgqo"
      },
      "source": [
        "import tensorflow as tf\r\n",
        "import numpy as np\r\n",
        "import pandas as pd\r\n",
        "from tensorflow import keras"
      ],
      "execution_count": 1,
      "outputs": []
    },
    {
      "cell_type": "code",
      "metadata": {
        "id": "wZ7RULm6q8-Z"
      },
      "source": [
        "url = \"/content/sample_data/app.csv\"\r\n",
        "dataset = pd.read_csv(url)"
      ],
      "execution_count": 2,
      "outputs": []
    },
    {
      "cell_type": "code",
      "metadata": {
        "colab": {
          "base_uri": "https://localhost:8080/",
          "height": 173
        },
        "id": "2iIXsVLMr6eC",
        "outputId": "d1f2dca5-84e5-49fe-d7c1-7e3e0b5202d8"
      },
      "source": [
        "dataset.head(4)"
      ],
      "execution_count": 3,
      "outputs": [
        {
          "output_type": "execute_result",
          "data": {
            "text/html": [
              "<div>\n",
              "<style scoped>\n",
              "    .dataframe tbody tr th:only-of-type {\n",
              "        vertical-align: middle;\n",
              "    }\n",
              "\n",
              "    .dataframe tbody tr th {\n",
              "        vertical-align: top;\n",
              "    }\n",
              "\n",
              "    .dataframe thead th {\n",
              "        text-align: right;\n",
              "    }\n",
              "</style>\n",
              "<table border=\"1\" class=\"dataframe\">\n",
              "  <thead>\n",
              "    <tr style=\"text-align: right;\">\n",
              "      <th></th>\n",
              "      <th>Q1</th>\n",
              "      <th>Q2</th>\n",
              "      <th>Q3</th>\n",
              "      <th>Q4</th>\n",
              "      <th>Q5</th>\n",
              "      <th>Q6</th>\n",
              "      <th>Q7</th>\n",
              "      <th>Q8</th>\n",
              "      <th>Q9</th>\n",
              "      <th>Q10</th>\n",
              "    </tr>\n",
              "  </thead>\n",
              "  <tbody>\n",
              "    <tr>\n",
              "      <th>0</th>\n",
              "      <td>b</td>\n",
              "      <td>a</td>\n",
              "      <td>a</td>\n",
              "      <td>a</td>\n",
              "      <td>a</td>\n",
              "      <td>b</td>\n",
              "      <td>a</td>\n",
              "      <td>a</td>\n",
              "      <td>b</td>\n",
              "      <td>b</td>\n",
              "    </tr>\n",
              "    <tr>\n",
              "      <th>1</th>\n",
              "      <td>b</td>\n",
              "      <td>a</td>\n",
              "      <td>b</td>\n",
              "      <td>b</td>\n",
              "      <td>a</td>\n",
              "      <td>a</td>\n",
              "      <td>b</td>\n",
              "      <td>a</td>\n",
              "      <td>b</td>\n",
              "      <td>b</td>\n",
              "    </tr>\n",
              "    <tr>\n",
              "      <th>2</th>\n",
              "      <td>a</td>\n",
              "      <td>b</td>\n",
              "      <td>a</td>\n",
              "      <td>a</td>\n",
              "      <td>b</td>\n",
              "      <td>b</td>\n",
              "      <td>b</td>\n",
              "      <td>a</td>\n",
              "      <td>a</td>\n",
              "      <td>b</td>\n",
              "    </tr>\n",
              "    <tr>\n",
              "      <th>3</th>\n",
              "      <td>a</td>\n",
              "      <td>b</td>\n",
              "      <td>b</td>\n",
              "      <td>b</td>\n",
              "      <td>b</td>\n",
              "      <td>a</td>\n",
              "      <td>a</td>\n",
              "      <td>a</td>\n",
              "      <td>b</td>\n",
              "      <td>a</td>\n",
              "    </tr>\n",
              "  </tbody>\n",
              "</table>\n",
              "</div>"
            ],
            "text/plain": [
              "  Q1 Q2 Q3 Q4 Q5 Q6 Q7 Q8 Q9 Q10\n",
              "0  b  a  a  a  a  b  a  a  b   b\n",
              "1  b  a  b  b  a  a  b  a  b   b\n",
              "2  a  b  a  a  b  b  b  a  a   b\n",
              "3  a  b  b  b  b  a  a  a  b   a"
            ]
          },
          "metadata": {
            "tags": []
          },
          "execution_count": 3
        }
      ]
    },
    {
      "cell_type": "markdown",
      "metadata": {
        "id": "gq5mhd4NE4PN"
      },
      "source": [
        "Row 0: Boy 1\r\n",
        "\r\n",
        "Row 1: Girl 1\r\n",
        "\r\n",
        "Row 2: Boy 2\r\n",
        "\r\n",
        "Row 3: Girl 2"
      ]
    },
    {
      "cell_type": "code",
      "metadata": {
        "id": "RcNIHH3IkVpB"
      },
      "source": [
        "ds = dataset.replace({'a': 0.0, 'b': 1.0})"
      ],
      "execution_count": 4,
      "outputs": []
    },
    {
      "cell_type": "code",
      "metadata": {
        "colab": {
          "base_uri": "https://localhost:8080/",
          "height": 173
        },
        "id": "G3L9XSf7k713",
        "outputId": "78228ff6-aa34-4274-c941-844838f684e9"
      },
      "source": [
        "ds.head(6)"
      ],
      "execution_count": 5,
      "outputs": [
        {
          "output_type": "execute_result",
          "data": {
            "text/html": [
              "<div>\n",
              "<style scoped>\n",
              "    .dataframe tbody tr th:only-of-type {\n",
              "        vertical-align: middle;\n",
              "    }\n",
              "\n",
              "    .dataframe tbody tr th {\n",
              "        vertical-align: top;\n",
              "    }\n",
              "\n",
              "    .dataframe thead th {\n",
              "        text-align: right;\n",
              "    }\n",
              "</style>\n",
              "<table border=\"1\" class=\"dataframe\">\n",
              "  <thead>\n",
              "    <tr style=\"text-align: right;\">\n",
              "      <th></th>\n",
              "      <th>Q1</th>\n",
              "      <th>Q2</th>\n",
              "      <th>Q3</th>\n",
              "      <th>Q4</th>\n",
              "      <th>Q5</th>\n",
              "      <th>Q6</th>\n",
              "      <th>Q7</th>\n",
              "      <th>Q8</th>\n",
              "      <th>Q9</th>\n",
              "      <th>Q10</th>\n",
              "    </tr>\n",
              "  </thead>\n",
              "  <tbody>\n",
              "    <tr>\n",
              "      <th>0</th>\n",
              "      <td>1.0</td>\n",
              "      <td>0.0</td>\n",
              "      <td>0.0</td>\n",
              "      <td>0.0</td>\n",
              "      <td>0.0</td>\n",
              "      <td>1.0</td>\n",
              "      <td>0.0</td>\n",
              "      <td>0.0</td>\n",
              "      <td>1.0</td>\n",
              "      <td>1.0</td>\n",
              "    </tr>\n",
              "    <tr>\n",
              "      <th>1</th>\n",
              "      <td>1.0</td>\n",
              "      <td>0.0</td>\n",
              "      <td>1.0</td>\n",
              "      <td>1.0</td>\n",
              "      <td>0.0</td>\n",
              "      <td>0.0</td>\n",
              "      <td>1.0</td>\n",
              "      <td>0.0</td>\n",
              "      <td>1.0</td>\n",
              "      <td>1.0</td>\n",
              "    </tr>\n",
              "    <tr>\n",
              "      <th>2</th>\n",
              "      <td>0.0</td>\n",
              "      <td>1.0</td>\n",
              "      <td>0.0</td>\n",
              "      <td>0.0</td>\n",
              "      <td>1.0</td>\n",
              "      <td>1.0</td>\n",
              "      <td>1.0</td>\n",
              "      <td>0.0</td>\n",
              "      <td>0.0</td>\n",
              "      <td>1.0</td>\n",
              "    </tr>\n",
              "    <tr>\n",
              "      <th>3</th>\n",
              "      <td>0.0</td>\n",
              "      <td>1.0</td>\n",
              "      <td>1.0</td>\n",
              "      <td>1.0</td>\n",
              "      <td>1.0</td>\n",
              "      <td>0.0</td>\n",
              "      <td>0.0</td>\n",
              "      <td>0.0</td>\n",
              "      <td>1.0</td>\n",
              "      <td>0.0</td>\n",
              "    </tr>\n",
              "  </tbody>\n",
              "</table>\n",
              "</div>"
            ],
            "text/plain": [
              "    Q1   Q2   Q3   Q4   Q5   Q6   Q7   Q8   Q9  Q10\n",
              "0  1.0  0.0  0.0  0.0  0.0  1.0  0.0  0.0  1.0  1.0\n",
              "1  1.0  0.0  1.0  1.0  0.0  0.0  1.0  0.0  1.0  1.0\n",
              "2  0.0  1.0  0.0  0.0  1.0  1.0  1.0  0.0  0.0  1.0\n",
              "3  0.0  1.0  1.0  1.0  1.0  0.0  0.0  0.0  1.0  0.0"
            ]
          },
          "metadata": {
            "tags": []
          },
          "execution_count": 5
        }
      ]
    },
    {
      "cell_type": "code",
      "metadata": {
        "colab": {
          "base_uri": "https://localhost:8080/"
        },
        "id": "NvFNsVJxlB4a",
        "outputId": "91372948-1e95-4ad6-8f9c-b661d5a569ce"
      },
      "source": [
        "boy1 = list(ds.loc[0])\r\n",
        "girl1 = list(ds.loc[1])\r\n",
        "print(boy1)\r\n",
        "print(girl1)\r\n",
        "\r\n",
        "\r\n",
        "cosine_loss = tf.keras.losses.CosineSimilarity(axis=0)\r\n",
        "\r\n",
        "probability_of_boy1_girl1 = cosine_loss(boy1, girl1).numpy()\r\n",
        "\r\n",
        "if probability_of_boy1_girl1 < 0:\r\n",
        "  print(\"Matching probability of boy1 and girl1 is: \", -probability_of_boy1_girl1)\r\n",
        "else:\r\n",
        "  print(\"They are no match between boy1 and girl1\")\r\n",
        "  "
      ],
      "execution_count": 8,
      "outputs": [
        {
          "output_type": "stream",
          "text": [
            "[1.0, 0.0, 0.0, 0.0, 0.0, 1.0, 0.0, 0.0, 1.0, 1.0]\n",
            "[1.0, 0.0, 1.0, 1.0, 0.0, 0.0, 1.0, 0.0, 1.0, 1.0]\n",
            "Matching probability of boy1 and girl1 is:  0.6123724\n"
          ],
          "name": "stdout"
        }
      ]
    },
    {
      "cell_type": "code",
      "metadata": {
        "colab": {
          "base_uri": "https://localhost:8080/"
        },
        "id": "CSnYr8XdNNtp",
        "outputId": "2a24a1cf-4149-4fcb-98c7-a494bd39e437"
      },
      "source": [
        "boy2 = list(ds.loc[2])\r\n",
        "girl2 = list(ds.loc[3])\r\n",
        "print(boy2)\r\n",
        "print(girl2)\r\n",
        "\r\n",
        "\r\n",
        "cosine_loss = tf.keras.losses.CosineSimilarity(axis=0)\r\n",
        "\r\n",
        "probability_of_boy2_girl2 = cosine_loss(boy2, girl2).numpy()\r\n",
        "\r\n",
        "if probability_of_boy2_girl2 < 0:\r\n",
        "  print(\"Matching probability of boy2 and girl2 is: \", -probability_of_boy2_girl2)\r\n",
        "else:\r\n",
        "  print(\"They are no match between boy2 and girl2\")"
      ],
      "execution_count": 10,
      "outputs": [
        {
          "output_type": "stream",
          "text": [
            "[0.0, 1.0, 0.0, 0.0, 1.0, 1.0, 1.0, 0.0, 0.0, 1.0]\n",
            "[0.0, 1.0, 1.0, 1.0, 1.0, 0.0, 0.0, 0.0, 1.0, 0.0]\n",
            "Matching probability of boy1 and girl1 is:  0.39999998\n"
          ],
          "name": "stdout"
        }
      ]
    },
    {
      "cell_type": "markdown",
      "metadata": {
        "id": "hK5MnsupIp4K"
      },
      "source": [
        "##If Cosine similarity value is near to the -1, it means the similarities are higher between b1 & g1 and their profiles are a good match."
      ]
    },
    {
      "cell_type": "code",
      "metadata": {
        "colab": {
          "base_uri": "https://localhost:8080/"
        },
        "id": "s-z4vEXnzD0q",
        "outputId": "14cdf938-f806-4121-99e0-730c7105747a"
      },
      "source": [
        "b1 = [1., 0., 0., 0., 0., 1., 0., 0., 1., 1.]\r\n",
        "g1 = [1., 0., 1., 1., 0., 0., 1., 0., 1., 1.]\r\n",
        "b2 = [0., 1., 0., 0., 1., 1., 1., 0., 0., 1.]\r\n",
        "g2 = [0., 1., 1., 1., 1., 0., 0., 0., 1., 0.]\r\n",
        "cosine_loss = tf.keras.losses.CosineSimilarity()\r\n",
        "\r\n",
        "print(\"---------------These are Cosine Values---------------\")\r\n",
        "print(\"Cosine similaritites values of b1 & g1: \", cosine_loss(b1, g1).numpy())\r\n",
        "print(\"Cosine similaritites values of b1 & g2: \", cosine_loss(b1, g2).numpy())\r\n",
        "\r\n",
        "print(\"Cosine similaritites values of b2 & g1: \", cosine_loss(b2, g1).numpy())\r\n",
        "print(\"Cosine similaritites values of b2 & g2: \", cosine_loss(b2, g2).numpy())"
      ],
      "execution_count": 17,
      "outputs": [
        {
          "output_type": "stream",
          "text": [
            "---------------These are Cosine Values---------------\n",
            "Cosine similaritites values of b1 & g1:  -0.6123724\n",
            "Cosine similaritites values of b1 & g2:  -0.2236068\n",
            "Cosine similaritites values of b2 & g1:  -0.36514837\n",
            "Cosine similaritites values of b2 & g2:  -0.39999998\n"
          ],
          "name": "stdout"
        }
      ]
    }
  ]
}