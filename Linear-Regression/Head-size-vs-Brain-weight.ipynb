{
  "nbformat": 4,
  "nbformat_minor": 0,
  "metadata": {
    "colab": {
      "name": "Head Size vs Brain Weight.ipynb",
      "provenance": [],
      "authorship_tag": "ABX9TyPdERF7lfeU7WPSBHNeNdIA",
      "include_colab_link": true
    },
    "kernelspec": {
      "name": "python3",
      "display_name": "Python 3"
    }
  },
  "cells": [
    {
      "cell_type": "markdown",
      "metadata": {
        "id": "view-in-github",
        "colab_type": "text"
      },
      "source": [
        "<a href=\"https://colab.research.google.com/github/dotiyal/Hello-ML-World/blob/master/Head_Size_vs_Brain_Weight.ipynb\" target=\"_parent\"><img src=\"https://colab.research.google.com/assets/colab-badge.svg\" alt=\"Open In Colab\"/></a>"
      ]
    },
    {
      "cell_type": "markdown",
      "metadata": {
        "id": "aEasLmEaKvIb"
      },
      "source": [
        "#Head Size vs Brain Weight"
      ]
    },
    {
      "cell_type": "code",
      "metadata": {
        "id": "4IT7sdq36-9h"
      },
      "source": [
        "# Importing Necessary libraries.\n",
        "import numpy as np\n",
        "import pandas as pd\n",
        "import matplotlib.pyplot as plt\n",
        "%matplotlib inline"
      ],
      "execution_count": 98,
      "outputs": []
    },
    {
      "cell_type": "code",
      "metadata": {
        "id": "FJcYTtzB7DEI",
        "outputId": "aa17a71c-cb29-4000-da99-e1dd607c52d5",
        "colab": {
          "base_uri": "https://localhost:8080/",
          "height": 204
        }
      },
      "source": [
        "# Reading Data\n",
        "df = pd.read_csv('/content/head_brain.csv')\n",
        "df.head()"
      ],
      "execution_count": 99,
      "outputs": [
        {
          "output_type": "execute_result",
          "data": {
            "text/html": [
              "<div>\n",
              "<style scoped>\n",
              "    .dataframe tbody tr th:only-of-type {\n",
              "        vertical-align: middle;\n",
              "    }\n",
              "\n",
              "    .dataframe tbody tr th {\n",
              "        vertical-align: top;\n",
              "    }\n",
              "\n",
              "    .dataframe thead th {\n",
              "        text-align: right;\n",
              "    }\n",
              "</style>\n",
              "<table border=\"1\" class=\"dataframe\">\n",
              "  <thead>\n",
              "    <tr style=\"text-align: right;\">\n",
              "      <th></th>\n",
              "      <th>Gender</th>\n",
              "      <th>Age Range</th>\n",
              "      <th>Head Size(cm^3)</th>\n",
              "      <th>Brain Weight(grams)</th>\n",
              "    </tr>\n",
              "  </thead>\n",
              "  <tbody>\n",
              "    <tr>\n",
              "      <th>0</th>\n",
              "      <td>1</td>\n",
              "      <td>1</td>\n",
              "      <td>4512</td>\n",
              "      <td>1530</td>\n",
              "    </tr>\n",
              "    <tr>\n",
              "      <th>1</th>\n",
              "      <td>1</td>\n",
              "      <td>1</td>\n",
              "      <td>3738</td>\n",
              "      <td>1297</td>\n",
              "    </tr>\n",
              "    <tr>\n",
              "      <th>2</th>\n",
              "      <td>1</td>\n",
              "      <td>1</td>\n",
              "      <td>4261</td>\n",
              "      <td>1335</td>\n",
              "    </tr>\n",
              "    <tr>\n",
              "      <th>3</th>\n",
              "      <td>1</td>\n",
              "      <td>1</td>\n",
              "      <td>3777</td>\n",
              "      <td>1282</td>\n",
              "    </tr>\n",
              "    <tr>\n",
              "      <th>4</th>\n",
              "      <td>1</td>\n",
              "      <td>1</td>\n",
              "      <td>4177</td>\n",
              "      <td>1590</td>\n",
              "    </tr>\n",
              "  </tbody>\n",
              "</table>\n",
              "</div>"
            ],
            "text/plain": [
              "   Gender  Age Range  Head Size(cm^3)  Brain Weight(grams)\n",
              "0       1          1             4512                 1530\n",
              "1       1          1             3738                 1297\n",
              "2       1          1             4261                 1335\n",
              "3       1          1             3777                 1282\n",
              "4       1          1             4177                 1590"
            ]
          },
          "metadata": {
            "tags": []
          },
          "execution_count": 99
        }
      ]
    },
    {
      "cell_type": "code",
      "metadata": {
        "id": "XVjHQY3g7jUt",
        "outputId": "30130b74-38df-4b35-a608-ccc720fd2e2c",
        "colab": {
          "base_uri": "https://localhost:8080/"
        }
      },
      "source": [
        "df.info()"
      ],
      "execution_count": 100,
      "outputs": [
        {
          "output_type": "stream",
          "text": [
            "<class 'pandas.core.frame.DataFrame'>\n",
            "RangeIndex: 237 entries, 0 to 236\n",
            "Data columns (total 4 columns):\n",
            " #   Column               Non-Null Count  Dtype\n",
            "---  ------               --------------  -----\n",
            " 0   Gender               237 non-null    int64\n",
            " 1   Age Range            237 non-null    int64\n",
            " 2   Head Size(cm^3)      237 non-null    int64\n",
            " 3   Brain Weight(grams)  237 non-null    int64\n",
            "dtypes: int64(4)\n",
            "memory usage: 7.5 KB\n"
          ],
          "name": "stdout"
        }
      ]
    },
    {
      "cell_type": "code",
      "metadata": {
        "id": "bBHx9c4B7pkW",
        "outputId": "52b2d390-5acc-453f-e4cb-731678b25f46",
        "colab": {
          "base_uri": "https://localhost:8080/"
        }
      },
      "source": [
        "df.isnull().sum()\n",
        "# Our dataset has no categorical values we can move forward.\n",
        "# we don't have any null values in our dataset."
      ],
      "execution_count": 101,
      "outputs": [
        {
          "output_type": "execute_result",
          "data": {
            "text/plain": [
              "Gender                 0\n",
              "Age Range              0\n",
              "Head Size(cm^3)        0\n",
              "Brain Weight(grams)    0\n",
              "dtype: int64"
            ]
          },
          "metadata": {
            "tags": []
          },
          "execution_count": 101
        }
      ]
    },
    {
      "cell_type": "code",
      "metadata": {
        "id": "hzesJmHm7u5d",
        "outputId": "74d9485e-f94f-4e13-8133-c34861b14d79",
        "colab": {
          "base_uri": "https://localhost:8080/"
        }
      },
      "source": [
        "df.shape"
      ],
      "execution_count": 102,
      "outputs": [
        {
          "output_type": "execute_result",
          "data": {
            "text/plain": [
              "(237, 4)"
            ]
          },
          "metadata": {
            "tags": []
          },
          "execution_count": 102
        }
      ]
    },
    {
      "cell_type": "markdown",
      "metadata": {
        "id": "qX7n7I9JK_VS"
      },
      "source": [
        "# Collecting X and Y"
      ]
    },
    {
      "cell_type": "code",
      "metadata": {
        "id": "K5D_KwJg7ySB"
      },
      "source": [
        "# Collecting x and y variables\n",
        "X = df['Head Size(cm^3)'].values\n",
        "Y =  df['Brain Weight(grams)'].values"
      ],
      "execution_count": 103,
      "outputs": []
    },
    {
      "cell_type": "code",
      "metadata": {
        "id": "RrhcnaDJ71su",
        "outputId": "ed7b8940-604a-43dc-e777-564d4c3ff2b8",
        "colab": {
          "base_uri": "https://localhost:8080/"
        }
      },
      "source": [
        "X.shape, Y.shape"
      ],
      "execution_count": 104,
      "outputs": [
        {
          "output_type": "execute_result",
          "data": {
            "text/plain": [
              "((237,), (237,))"
            ]
          },
          "metadata": {
            "tags": []
          },
          "execution_count": 104
        }
      ]
    },
    {
      "cell_type": "markdown",
      "metadata": {
        "id": "lu1741zi8HXp"
      },
      "source": [
        "# Method 1: Manual Coding"
      ]
    },
    {
      "cell_type": "code",
      "metadata": {
        "id": "ybC8gNvh8MTY",
        "outputId": "ed5a226e-8810-4bdf-a5b7-9700839b3950",
        "colab": {
          "base_uri": "https://localhost:8080/"
        }
      },
      "source": [
        "mean_X = np.mean(X)\n",
        "mean_Y = np.mean(Y)\n",
        "\n",
        "# Total number of values\n",
        "n = len(X)\n",
        "\n",
        "numerator = 0\n",
        "denominator = 0\n",
        "\n",
        "# Using the formula to calculate m and c\n",
        "for i in range(n):\n",
        "    numerator += (X[i]-mean_X)* (Y[i]-mean_Y)\n",
        "    denominator +=(X[i]-mean_X)**2\n",
        "m = numerator/denominator\n",
        "c = mean_Y - (m*mean_X)\n",
        "\n",
        "# Print coefficients\n",
        "print(m, c)"
      ],
      "execution_count": 105,
      "outputs": [
        {
          "output_type": "stream",
          "text": [
            "0.26342933948939945 325.57342104944223\n"
          ],
          "name": "stdout"
        }
      ]
    },
    {
      "cell_type": "markdown",
      "metadata": {
        "id": "Cpu7gmW5LXAl"
      },
      "source": [
        "# Plotting values and Regression line"
      ]
    },
    {
      "cell_type": "code",
      "metadata": {
        "id": "X_5U1peo8YiV",
        "outputId": "064dfb11-895e-47b1-c899-d9bc3ce4b17b",
        "colab": {
          "base_uri": "https://localhost:8080/",
          "height": 282
        }
      },
      "source": [
        "plt.scatter(X, Y)"
      ],
      "execution_count": 106,
      "outputs": [
        {
          "output_type": "execute_result",
          "data": {
            "text/plain": [
              "<matplotlib.collections.PathCollection at 0x7f08c5b5f2b0>"
            ]
          },
          "metadata": {
            "tags": []
          },
          "execution_count": 106
        },
        {
          "output_type": "display_data",
          "data": {
            "image/png": "[encoded data removed]",
            "text/plain": [
              "<Figure size 432x288 with 1 Axes>"
            ]
          },
          "metadata": {
            "tags": [],
            "needs_background": "light"
          }
        }
      ]
    },
    {
      "cell_type": "markdown",
      "metadata": {
        "id": "My1jt2_78pzd"
      },
      "source": [
        "# Creating Dummy Test Set"
      ]
    },
    {
      "cell_type": "code",
      "metadata": {
        "id": "wAgDzvBg8o45"
      },
      "source": [
        "min_x = np.min(X) - 100\n",
        "max_x = np.max(X) + 100"
      ],
      "execution_count": 107,
      "outputs": []
    },
    {
      "cell_type": "code",
      "metadata": {
        "id": "t7zsx-O69Itn"
      },
      "source": [
        "# Calculating line values x and y\n",
        "x = np.linspace(min_x, max_x, 1000)"
      ],
      "execution_count": 108,
      "outputs": []
    },
    {
      "cell_type": "code",
      "metadata": {
        "id": "KOLcr6339OAo"
      },
      "source": [
        "y = m * x + c"
      ],
      "execution_count": 109,
      "outputs": []
    },
    {
      "cell_type": "code",
      "metadata": {
        "id": "Pv1Mt9jN9e-k",
        "outputId": "b692dc49-3a8b-4fe5-c945-e91faa2e957f",
        "colab": {
          "base_uri": "https://localhost:8080/",
          "height": 312
        }
      },
      "source": [
        "#plotting Scatter Points\n",
        "plt.scatter(X,Y,color='b', label='Scatter Plot')\n",
        "\n",
        "# Plotting line\n",
        "plt.plot(x,y,color='r', label='Regression Line')\n",
        "plt.title('Simple Linear Regression')\n",
        "plt.xlabel('Head size cm^3')\n",
        "plt.ylabel('Brain weight in grams')"
      ],
      "execution_count": 110,
      "outputs": [
        {
          "output_type": "execute_result",
          "data": {
            "text/plain": [
              "Text(0, 0.5, 'Brain weight in grams')"
            ]
          },
          "metadata": {
            "tags": []
          },
          "execution_count": 110
        },
        {
          "output_type": "display_data",
          "data": {
            "image/png": "[encoded data removed]",
            "text/plain": [
              "<Figure size 432x288 with 1 Axes>"
            ]
          },
          "metadata": {
            "tags": [],
            "needs_background": "light"
          }
        }
      ]
    },
    {
      "cell_type": "markdown",
      "metadata": {
        "id": "MwEcLAlU9nTC"
      },
      "source": [
        "# Calculating The Error"
      ]
    },
    {
      "cell_type": "code",
      "metadata": {
        "id": "Z6gBHo4kE_Vt",
        "outputId": "9c09c384-c0f2-484e-8b1f-36af99d5ed2c",
        "colab": {
          "base_uri": "https://localhost:8080/"
        }
      },
      "source": [
        "sum_pred = 0\n",
        "sum_act = 0\n",
        "\n",
        "for i in range(n):\n",
        "    y_pred = (m*X[i]+c)\n",
        "    sum_pred += (Y[i]-y_pred)**2\n",
        "    sum_act +=(Y[i]-mean_Y)**2\n",
        "\n",
        "r2 = 1-(sum_pred/sum_act)\n",
        "print(r2) # Here we can observe that we got R**2> 0.5 . so we have good model"
      ],
      "execution_count": 111,
      "outputs": [
        {
          "output_type": "stream",
          "text": [
            "0.6393117199570003\n"
          ],
          "name": "stdout"
        }
      ]
    },
    {
      "cell_type": "code",
      "metadata": {
        "id": "CJYMIn0d-OUv"
      },
      "source": [
        "def predict(x):\n",
        "    y = m*x + c\n",
        "    print(y)"
      ],
      "execution_count": 112,
      "outputs": []
    },
    {
      "cell_type": "code",
      "metadata": {
        "id": "gWlYfpTy-kbY",
        "outputId": "24be95b1-e487-422a-fe48-6cc6c788ea35",
        "colab": {
          "base_uri": "https://localhost:8080/"
        }
      },
      "source": [
        "predict(4177)\n",
        "# here we predict the brain wieght for given head size(cm^3)"
      ],
      "execution_count": 113,
      "outputs": [
        {
          "output_type": "stream",
          "text": [
            "1425.9177720966638\n"
          ],
          "name": "stdout"
        }
      ]
    },
    {
      "cell_type": "markdown",
      "metadata": {
        "id": "JkBTokn5-4KN"
      },
      "source": [
        "# Method 2: using scikit learn"
      ]
    },
    {
      "cell_type": "code",
      "metadata": {
        "id": "Yz1CNiE4-3Xn"
      },
      "source": [
        "from sklearn.linear_model import LinearRegression\n",
        "from sklearn.metrics import mean_squared_error\n",
        "\n",
        "X  = X.reshape((n,1))"
      ],
      "execution_count": 114,
      "outputs": []
    },
    {
      "cell_type": "code",
      "metadata": {
        "id": "MS7nd4aV_dfa",
        "outputId": "7eb72381-d7ca-4360-fb49-d5a39464cb5c",
        "colab": {
          "base_uri": "https://localhost:8080/"
        }
      },
      "source": [
        "X.shape"
      ],
      "execution_count": 115,
      "outputs": [
        {
          "output_type": "execute_result",
          "data": {
            "text/plain": [
              "(237, 1)"
            ]
          },
          "metadata": {
            "tags": []
          },
          "execution_count": 115
        }
      ]
    },
    {
      "cell_type": "code",
      "metadata": {
        "id": "n-3okPtw_ewQ",
        "outputId": "d28c9c79-a8ce-4fee-b423-285b1a16c5a7",
        "colab": {
          "base_uri": "https://localhost:8080/"
        }
      },
      "source": [
        "y.shape"
      ],
      "execution_count": 116,
      "outputs": [
        {
          "output_type": "execute_result",
          "data": {
            "text/plain": [
              "(1000,)"
            ]
          },
          "metadata": {
            "tags": []
          },
          "execution_count": 116
        }
      ]
    },
    {
      "cell_type": "code",
      "metadata": {
        "id": "ls0-52Ks_lFZ",
        "outputId": "4449022a-731f-4950-bb29-bcc0c16730fa",
        "colab": {
          "base_uri": "https://localhost:8080/"
        }
      },
      "source": [
        "lg = LinearRegression()\n",
        "lg.fit(X,Y)"
      ],
      "execution_count": 117,
      "outputs": [
        {
          "output_type": "execute_result",
          "data": {
            "text/plain": [
              "LinearRegression(copy_X=True, fit_intercept=True, n_jobs=None, normalize=False)"
            ]
          },
          "metadata": {
            "tags": []
          },
          "execution_count": 117
        }
      ]
    },
    {
      "cell_type": "code",
      "metadata": {
        "id": "NoPNjFJE_tAd"
      },
      "source": [
        ""
      ],
      "execution_count": 117,
      "outputs": []
    },
    {
      "cell_type": "code",
      "metadata": {
        "id": "ZLY7GOIX_xgQ"
      },
      "source": [
        "# Y prediction\n",
        "y_pred = lg.predict(X)\n",
        "\n",
        "mse = mean_squared_error(Y,y_pred)\n",
        "rmse = np.sqrt(mse)\n",
        "\n",
        "# Calculating R2 Score\n",
        "r2_score = lg.score(X,Y)"
      ],
      "execution_count": 118,
      "outputs": []
    },
    {
      "cell_type": "code",
      "metadata": {
        "id": "CDe4eP7EAGqH",
        "outputId": "78d416b4-5fc4-438a-9ba2-a70f1f633f19",
        "colab": {
          "base_uri": "https://localhost:8080/"
        }
      },
      "source": [
        "print(rmse)\n",
        "print(r2_score)\n",
        "# we got the same error R**2 value as above method-1"
      ],
      "execution_count": 119,
      "outputs": [
        {
          "output_type": "stream",
          "text": [
            "72.1206213783709\n",
            "0.639311719957\n"
          ],
          "name": "stdout"
        }
      ]
    },
    {
      "cell_type": "code",
      "metadata": {
        "id": "Q1DWYBAZAMOI",
        "outputId": "a163f658-09e7-48a4-dafe-53414e22cba6",
        "colab": {
          "base_uri": "https://localhost:8080/"
        }
      },
      "source": [
        "lg.predict([[4177]])"
      ],
      "execution_count": 120,
      "outputs": [
        {
          "output_type": "execute_result",
          "data": {
            "text/plain": [
              "array([1425.9177721])"
            ]
          },
          "metadata": {
            "tags": []
          },
          "execution_count": 120
        }
      ]
    },
    {
      "cell_type": "code",
      "metadata": {
        "id": "ZkszQUeMAOLb",
        "outputId": "2e7824f1-2ffb-4a8e-ef1a-33449fa49cec",
        "colab": {
          "base_uri": "https://localhost:8080/"
        }
      },
      "source": [
        "lg.intercept_"
      ],
      "execution_count": 121,
      "outputs": [
        {
          "output_type": "execute_result",
          "data": {
            "text/plain": [
              "325.5734210494426"
            ]
          },
          "metadata": {
            "tags": []
          },
          "execution_count": 121
        }
      ]
    }
  ]
}
